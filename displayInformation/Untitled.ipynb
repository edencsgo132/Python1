{
 "cells": [
  {
   "cell_type": "code",
   "execution_count": 4,
   "id": "7d068b6c-d6ef-4058-a3ca-ed24c93c73c4",
   "metadata": {},
   "outputs": [
    {
     "name": "stdin",
     "output_type": "stream",
     "text": [
      "Độ C là: 12\n"
     ]
    },
    {
     "name": "stdout",
     "output_type": "stream",
     "text": [
      "53.6\n"
     ]
    }
   ],
   "source": [
    "do_C = float(input('Độ C là:'))\n",
    "do_F = (do_C * 1.8) +  32\n",
    "print(do_F)"
   ]
  },
  {
   "cell_type": "code",
   "execution_count": null,
   "id": "9b7d322b-4aca-43db-8e1e-9bf5d359c125",
   "metadata": {},
   "outputs": [],
   "source": []
  }
 ],
 "metadata": {
  "kernelspec": {
   "display_name": "Python 3 (ipykernel)",
   "language": "python",
   "name": "python3"
  },
  "language_info": {
   "codemirror_mode": {
    "name": "ipython",
    "version": 3
   },
   "file_extension": ".py",
   "mimetype": "text/x-python",
   "name": "python",
   "nbconvert_exporter": "python",
   "pygments_lexer": "ipython3",
   "version": "3.11.4"
  }
 },
 "nbformat": 4,
 "nbformat_minor": 5
}
