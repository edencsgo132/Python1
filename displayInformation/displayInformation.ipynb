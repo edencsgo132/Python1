{
 "cells": [
  {
   "cell_type": "code",
   "execution_count": 1,
   "id": "0a043be4-68f9-487a-8f6c-319576aeace5",
   "metadata": {},
   "outputs": [
    {
     "name": "stdout",
     "output_type": "stream",
     "text": [
      "Nguyễn Hiếu Minh\n",
      "14/9/2001\n",
      "Hà nội\n",
      "học để biết thêm\n"
     ]
    }
   ],
   "source": [
    "print('Nguyễn Hiếu Minh')\n",
    "print('14/9/2001')\n",
    "print('Hà nội')\n",
    "print('học để biết thêm')"
   ]
  },
  {
   "cell_type": "code",
   "execution_count": null,
   "id": "e878a6c0-52cd-4fa7-8ca7-3fdfef58d747",
   "metadata": {},
   "outputs": [],
   "source": []
  }
 ],
 "metadata": {
  "kernelspec": {
   "display_name": "Python 3 (ipykernel)",
   "language": "python",
   "name": "python3"
  },
  "language_info": {
   "codemirror_mode": {
    "name": "ipython",
    "version": 3
   },
   "file_extension": ".py",
   "mimetype": "text/x-python",
   "name": "python",
   "nbconvert_exporter": "python",
   "pygments_lexer": "ipython3",
   "version": "3.11.4"
  }
 },
 "nbformat": 4,
 "nbformat_minor": 5
}
