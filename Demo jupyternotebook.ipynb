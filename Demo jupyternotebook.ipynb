{
 "cells": [
  {
   "cell_type": "code",
   "execution_count": 1,
   "id": "fdd55ccb-8585-461a-93ae-0b3949f79897",
   "metadata": {},
   "outputs": [
    {
     "name": "stdout",
     "output_type": "stream",
     "text": [
      "Hello World\n"
     ]
    }
   ],
   "source": [
    "print(\"Hello World\")"
   ]
  },
  {
   "cell_type": "code",
   "execution_count": 2,
   "id": "c94df75a-8835-4530-b6ff-dc1ee06b3891",
   "metadata": {},
   "outputs": [
    {
     "name": "stdout",
     "output_type": "stream",
     "text": [
      "Hello, my name is Minh\n"
     ]
    }
   ],
   "source": [
    "print(\"Hello, my name is Minh\")"
   ]
  },
  {
   "cell_type": "code",
   "execution_count": 3,
   "id": "6561ad24-5b80-4782-b70f-1908252b183f",
   "metadata": {},
   "outputs": [
    {
     "name": "stdout",
     "output_type": "stream",
     "text": [
      "Tuấn Long ngu vãi cả lồn\n"
     ]
    }
   ],
   "source": [
    "print(\"Tuấn Long ngu vãi cả lồn\")"
   ]
  },
  {
   "cell_type": "code",
   "execution_count": null,
   "id": "0318fc42-373f-4af5-9675-006cef2e41de",
   "metadata": {},
   "outputs": [],
   "source": []
  },
  {
   "cell_type": "code",
   "execution_count": null,
   "id": "829fb9ac-f7b5-48fb-aabe-d72e00e6901b",
   "metadata": {},
   "outputs": [],
   "source": []
  }
 ],
 "metadata": {
  "kernelspec": {
   "display_name": "Python 3 (ipykernel)",
   "language": "python",
   "name": "python3"
  },
  "language_info": {
   "codemirror_mode": {
    "name": "ipython",
    "version": 3
   },
   "file_extension": ".py",
   "mimetype": "text/x-python",
   "name": "python",
   "nbconvert_exporter": "python",
   "pygments_lexer": "ipython3",
   "version": "3.11.4"
  }
 },
 "nbformat": 4,
 "nbformat_minor": 5
}
