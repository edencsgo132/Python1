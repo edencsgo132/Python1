{
 "cells": [
  {
   "cell_type": "code",
   "execution_count": null,
   "id": "272a3a95",
   "metadata": {},
   "outputs": [],
   "source": [
    "'''\n",
    "Khởi động 1: Viết chương trình in ra tất cả các số chia hết cho cả 5 và 7 trong khoảng từ 1500 đến 2700\n",
    "'''"
   ]
  },
  {
   "cell_type": "code",
   "execution_count": 10,
   "id": "18dbe371",
   "metadata": {},
   "outputs": [
    {
     "name": "stdout",
     "output_type": "stream",
     "text": [
      "1505\n",
      "1540\n",
      "1575\n",
      "1610\n",
      "1645\n",
      "1680\n",
      "1715\n",
      "1750\n",
      "1785\n",
      "1820\n",
      "1855\n",
      "1890\n",
      "1925\n",
      "1960\n",
      "1995\n",
      "2030\n",
      "2065\n",
      "2100\n",
      "2135\n",
      "2170\n",
      "2205\n",
      "2240\n",
      "2275\n",
      "2310\n",
      "2345\n",
      "2380\n",
      "2415\n",
      "2450\n",
      "2485\n",
      "2520\n",
      "2555\n",
      "2590\n",
      "2625\n",
      "2660\n",
      "2695\n"
     ]
    }
   ],
   "source": [
    "i = 1500\n",
    "\n",
    "while i <= 2700:\n",
    "    if i % 35 == 0:\n",
    "        print(i)\n",
    "\n",
    "    i += 1"
   ]
  },
  {
   "cell_type": "code",
   "execution_count": 1,
   "id": "87f74c6c",
   "metadata": {},
   "outputs": [
    {
     "name": "stdin",
     "output_type": "stream",
     "text": [
      "Please input height of triangle: 5\n"
     ]
    },
    {
     "name": "stdout",
     "output_type": "stream",
     "text": [
      "*****\n",
      "****\n",
      "***\n",
      "**\n",
      "*\n"
     ]
    }
   ],
   "source": [
    "'''\n",
    "Bài 1: Viết chương trình nhập vào chiều cao tam giác vuông và in ra tam giác có hình dạng như sau:\n",
    "*****\n",
    "****\n",
    "***\n",
    "** \n",
    "*\n",
    "'''\n",
    "height = int(input('Please input height of triangle:'))\n",
    "i = 5\n",
    "while 1<= i <= height:\n",
    "    print('*' * i)\n",
    "    i -= 1"
   ]
  },
  {
   "cell_type": "code",
   "execution_count": 2,
   "id": "ea4c14a8",
   "metadata": {},
   "outputs": [
    {
     "name": "stdin",
     "output_type": "stream",
     "text": [
      "Please input height of triangle: 6\n"
     ]
    },
    {
     "name": "stdout",
     "output_type": "stream",
     "text": [
      "* * * * * *\n",
      "* * * * *\n",
      "* * * *\n",
      "* * *\n",
      "* *\n",
      "*\n"
     ]
    }
   ],
   "source": [
    "'''\n",
    "Bài 2: Viết chương trình nhập vào chiều cao tam giác vuông và in ra tam giác có hình dạng như sau:\n",
    "* * * * * *\n",
    "* * * * *\n",
    "* * * *\n",
    "* * *\n",
    "* *\n",
    "*\n",
    "'''\n",
    "height = int(input('Please input height of triangle:'))\n",
    "i = 6\n",
    "while 1<= i <= height:\n",
    "    print('* ' * (i-1) + \"*\")\n",
    "    i -= 1"
   ]
  },
  {
   "cell_type": "code",
   "execution_count": 7,
   "id": "bd17e085",
   "metadata": {},
   "outputs": [
    {
     "name": "stdin",
     "output_type": "stream",
     "text": [
      "Please input height of triangle: 5\n"
     ]
    },
    {
     "name": "stdout",
     "output_type": "stream",
     "text": [
      "* - * - *\n",
      "* - * - \n",
      "* - *\n",
      "* - \n",
      "*\n"
     ]
    }
   ],
   "source": [
    "'''\n",
    "Bài 3: Viết chương trình nhập vào chiều cao tam giác vuông và in ra tam giác có hình dạng như sau:\n",
    "* - * - *\n",
    "* - * -\n",
    "* - *\n",
    "* -\n",
    "*\n",
    "'''\n",
    "height = int(input('Please input height of triangle:'))\n",
    "i = height\n",
    "while i >= 1:\n",
    "    print(\"* - \" *(i // 2)+ '*'*(i % 2))\n",
    "    i -= 1"
   ]
  },
  {
   "cell_type": "code",
   "execution_count": 3,
   "id": "105b66bc",
   "metadata": {},
   "outputs": [
    {
     "name": "stdin",
     "output_type": "stream",
     "text": [
      "Nhập số nguyên n:  25\n"
     ]
    },
    {
     "name": "stdout",
     "output_type": "stream",
     "text": [
      "1\n",
      "2\n",
      "py\n",
      "4\n",
      "5\n",
      "py\n",
      "thon\n",
      "8\n",
      "py\n",
      "10\n",
      "11\n",
      "py\n",
      "13\n",
      "thon\n",
      "py\n",
      "16\n",
      "17\n",
      "py\n",
      "19\n",
      "20\n",
      "python\n",
      "22\n",
      "23\n",
      "py\n",
      "25\n"
     ]
    }
   ],
   "source": [
    "'''\n",
    "Bài 4: Viết chương trình nhập vào một số nguyên n và in ra các số từ 1 đến n với các trường hợp ngoại lệ như sau:\n",
    "- Nếu số đó chia hết cho 3 thì in \"py\"\n",
    "- Nếu số đó chia hết cho 7 thì in \"thon\"\n",
    "- Nếu số đó chia hết cho cả 3 và 7 thì in \"python\"\n",
    "\n",
    "Ví dụ: n = 25\n",
    "1\n",
    "2\n",
    "py\n",
    "4\n",
    "5\n",
    "py\n",
    "thon\n",
    "8\n",
    "py\n",
    "10\n",
    "11\n",
    "py\n",
    "13\n",
    "thon\n",
    "py\n",
    "16\n",
    "17\n",
    "py\n",
    "19\n",
    "20\n",
    "python\n",
    "22\n",
    "23\n",
    "py\n",
    "25\n",
    "'''\n",
    "n = int(input('Nhập số nguyên n: '))\n",
    "n = 1\n",
    "while n <= 25:\n",
    "    if n % 3 == 0 and n % 7== 0:\n",
    "        print('python')\n",
    "    elif n % 7 == 0 and n % 3 != 0:\n",
    "        print('thon')\n",
    "    elif n % 3 == 0 and n % 7 != 0:\n",
    "        print('py')\n",
    "    else:\n",
    "        print(n)\n",
    "\n",
    "    n+= 1"
   ]
  },
  {
   "cell_type": "code",
   "execution_count": 26,
   "id": "3689744c",
   "metadata": {},
   "outputs": [
    {
     "name": "stdin",
     "output_type": "stream",
     "text": [
      "Nhập số nguyên bất kỳ:  3\n"
     ]
    },
    {
     "name": "stdout",
     "output_type": "stream",
     "text": [
      "3 là số nguyên tố\n"
     ]
    }
   ],
   "source": [
    "'''\n",
    "Bài 5: Viết chương trình nhập vào một số và kiểm tra xem số đó có phải là số nguyên tố hay không\n",
    "Note: Số nguyên tố là số chỉ chia hết cho 1 và chính nó\n",
    "'''\n",
    "n = int(input('Nhập số nguyên bất kỳ: '))\n",
    "if n > 2:\n",
    "    i = 2\n",
    "    while i < n:\n",
    "        if n % i == 0:\n",
    "            print(n, \"không phải là số nguyên tố\")\n",
    "            break\n",
    "        i += 1\n",
    "    else:\n",
    "        print( f\"{n} là số nguyên tố\")\n",
    "else:\n",
    "    print(f\"{n} không phải là số nguyên tố\")"
   ]
  },
  {
   "cell_type": "markdown",
   "id": "11d1d811-f138-4abc-b663-d2c39facc8a2",
   "metadata": {},
   "source": [
    "### '''\n",
    "# Bài 6: Viết chương trình mô phỏng trò chơi kéo búa bao theo luật chơi như sau:\n",
    "# Quy ước: 1 - búa, 2 - kéo, 3 - bao\n",
    "# Khi trò chơi bắt đầu, yêu cầu người chơi nhập 1 số từ bàn phím đại diện cho kéo, búa, bao\n",
    "# Chương trình tự random ra một lựa chọn từ 1 đến 3.\n",
    "# Nếu người chơi thua thì tiếp tục chơi cho đến khi thắng thì kết thúc chương trình.\n",
    "# Ví dụ:\n",
    "\n",
    "# Mời lựa chọn(1 - búa, 2 - kéo, 3 - bao): 1\n",
    "# Máy tính chọn: 3\n",
    "# Người chơi thua.\n",
    "\n",
    "# Mời lựa chọn(1 - búa, 2 - kéo, 3 - bao): 2\n",
    "# Máy tính chọn: 1\n",
    "# Người chơi thua.\n",
    "\n",
    "# Mời lựa chọn(1 - búa, 2 - kéo, 3 - bao): 1\n",
    "# Máy tính chọn: 2\n",
    "# Người chơi thắng.\n",
    "# '''\n",
    "import random\n",
    "is_win = False\n",
    "while is_win == False:\n",
    "    player_choice = int(input(\"Mời lựa chọn(1 - búa, 2 - kéo, 3 - bao): \"))\n",
    "    computer_choice = random.randint(1,3)\n",
    "    \n",
    "    print(f\"Máy tính chọn: {computer_choice}\")\n",
    "    \n",
    "    if (player_choice == 1 and computer_choice ==2) or (player_choice == 2 and computer_choice ==3) or\\\n",
    "        (player_choice == 3 and computer_choice ==1):\n",
    "        print(\"Người chơi thắng.\")\n",
    "        is_win = True\n",
    "    else:\n",
    "        print(\"Người chơi thua.\")"
   ]
  },
  {
   "cell_type": "markdown",
   "id": "4dfc754e-710c-4b4c-8d3c-e07a638e8c4f",
   "metadata": {},
   "source": [
    "import random\n",
    "player_choice = int(input(\"Mời lựa chọn(1 - búa, 2 - kéo, 3 - bao): \"))\n",
    "computer_choice = random.randint(1.3)\n",
    "print(f\"Máy tính chọn: {computer_choice}\")\n",
    "if (player_choice == 1 and computer_choice ==2) or (player_choice == 2 and computer_choice ==3) or\\\n",
    "    (player_choice == 3 and computer_choice ==1):\n",
    "    print(\"Người chơi thắng.\")\n",
    "else:\n",
    "\n",
    "    \n"
   ]
  },
  {
   "cell_type": "code",
   "execution_count": null,
   "id": "e92907cd-bb22-4bb3-a9f3-d888266c28bb",
   "metadata": {},
   "outputs": [],
   "source": []
  }
 ],
 "metadata": {
  "kernelspec": {
   "display_name": "Python 3 (ipykernel)",
   "language": "python",
   "name": "python3"
  },
  "language_info": {
   "codemirror_mode": {
    "name": "ipython",
    "version": 3
   },
   "file_extension": ".py",
   "mimetype": "text/x-python",
   "name": "python",
   "nbconvert_exporter": "python",
   "pygments_lexer": "ipython3",
   "version": "3.11.4"
  }
 },
 "nbformat": 4,
 "nbformat_minor": 5
}
