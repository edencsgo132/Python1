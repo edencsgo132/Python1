{
 "cells": [
  {
   "cell_type": "markdown",
   "metadata": {},
   "source": [
    "## Review: type()"
   ]
  },
  {
   "cell_type": "code",
   "execution_count": 1,
   "metadata": {},
   "outputs": [
    {
     "name": "stdout",
     "output_type": "stream",
     "text": [
      "<class 'str'>\n",
      "<class 'int'>\n",
      "<class 'float'>\n",
      "<class 'bool'>\n"
     ]
    }
   ],
   "source": [
    "# Python có 4 kiểu dữ liệu cơ bản\n",
    "print(type(\"hello\"))\n",
    "print(type(100))\n",
    "print(type(10.05))\n",
    "print(type(True))"
   ]
  },
  {
   "cell_type": "markdown",
   "metadata": {},
   "source": [
    "## list là gì?"
   ]
  },
  {
   "cell_type": "code",
   "execution_count": 3,
   "metadata": {},
   "outputs": [],
   "source": [
    "# Ví dụ\n",
    "list_lesson = [\"Data Type\", \"Input, Output\",\"Conditional Statement\"] # 3 values\n",
    "list_average_score = [6.5, 6.7, 6.8, 5.6, 7.5] # 5 items\n",
    "list_bonus = [True, False, True, True, False]"
   ]
  },
  {
   "cell_type": "code",
   "execution_count": 10,
   "metadata": {},
   "outputs": [
    {
     "name": "stdout",
     "output_type": "stream",
     "text": [
      "28\n",
      "Male\n",
      "25\n"
     ]
    }
   ],
   "source": [
    "# Sử dụng list\n",
    "list_info = [\"John Smith\", \"Male\", 28, 176, 67]\n",
    "age = list_info[2]\n",
    "age2 = list_info[1]\n",
    "print(age)\n",
    "print(age2)\n",
    "\n",
    "list_info[2] = 25\n",
    "print(list_info[2])"
   ]
  },
  {
   "cell_type": "code",
   "execution_count": 11,
   "metadata": {},
   "outputs": [
    {
     "ename": "TypeError",
     "evalue": "'str' object does not support item assignment",
     "output_type": "error",
     "traceback": [
      "\u001b[1;31m---------------------------------------------------------------------------\u001b[0m",
      "\u001b[1;31mTypeError\u001b[0m                                 Traceback (most recent call last)",
      "Cell \u001b[1;32mIn[11], line 2\u001b[0m\n\u001b[0;32m      1\u001b[0m content \u001b[38;5;241m=\u001b[39m \u001b[38;5;124m\"\u001b[39m\u001b[38;5;124mPythonFundamental\u001b[39m\u001b[38;5;124m\"\u001b[39m\n\u001b[1;32m----> 2\u001b[0m \u001b[43mcontent\u001b[49m\u001b[43m[\u001b[49m\u001b[38;5;241;43m0\u001b[39;49m\u001b[43m]\u001b[49m \u001b[38;5;241m=\u001b[39m\u001b[38;5;124m\"\u001b[39m\u001b[38;5;124mT\u001b[39m\u001b[38;5;124m\"\u001b[39m\n",
      "\u001b[1;31mTypeError\u001b[0m: 'str' object does not support item assignment"
     ]
    }
   ],
   "source": [
    "content = \"PythonFundamental\"\n",
    "content[0] =\"T\""
   ]
  },
  {
   "cell_type": "markdown",
   "metadata": {},
   "source": [
    "### Thực hành: Viết chương trình tạo ra một list các string khác nhau và đếm tổng số lượng string dài hơn 3 kí tự"
   ]
  },
  {
   "cell_type": "code",
   "execution_count": null,
   "metadata": {},
   "outputs": [],
   "source": []
  },
  {
   "cell_type": "markdown",
   "metadata": {},
   "source": [
    "### Thực hành 2: Viết chương trình nhận vào 2 list và trả về True nếu 2 list có ít nhất 1 phần tử chung, ngược lại trả về False"
   ]
  },
  {
   "cell_type": "code",
   "execution_count": null,
   "metadata": {},
   "outputs": [],
   "source": []
  },
  {
   "cell_type": "markdown",
   "metadata": {},
   "source": [
    "## Các thao tác cơ bản với list"
   ]
  },
  {
   "cell_type": "markdown",
   "metadata": {},
   "source": [
    "### Kiểm tra độ dài list"
   ]
  },
  {
   "cell_type": "code",
   "execution_count": 16,
   "metadata": {},
   "outputs": [
    {
     "name": "stdout",
     "output_type": "stream",
     "text": [
      "6\n"
     ]
    }
   ],
   "source": [
    "list_number = [0, 1 , 2, 3, 4, 5]\n",
    "print(len(list_number))"
   ]
  },
  {
   "cell_type": "markdown",
   "metadata": {},
   "source": [
    "### Truy cập phần tử trên list"
   ]
  },
  {
   "cell_type": "code",
   "execution_count": 17,
   "metadata": {},
   "outputs": [
    {
     "name": "stdout",
     "output_type": "stream",
     "text": [
      "0\n",
      "1\n",
      "2\n",
      "3\n",
      "4\n",
      "5\n"
     ]
    }
   ],
   "source": [
    "list_number = [0, 1 , 2, 3, 4, 5]\n",
    "for i in range(len(list_number)):\n",
    "    print(list_number[i])"
   ]
  },
  {
   "cell_type": "code",
   "execution_count": 18,
   "metadata": {},
   "outputs": [
    {
     "name": "stdout",
     "output_type": "stream",
     "text": [
      "0\n",
      "1\n",
      "2\n",
      "3\n",
      "4\n",
      "5\n"
     ]
    }
   ],
   "source": [
    "for value in list_number:\n",
    "    print(value)"
   ]
  },
  {
   "cell_type": "markdown",
   "metadata": {},
   "source": [
    "### Thực hành: Tạo một list 10 số tự nhiên và in ra các phần tử trong list"
   ]
  },
  {
   "cell_type": "code",
   "execution_count": 19,
   "metadata": {},
   "outputs": [
    {
     "name": "stdout",
     "output_type": "stream",
     "text": [
      "0\n",
      "1\n",
      "3\n",
      "7\n",
      "4\n",
      "5\n",
      "20\n",
      "40\n",
      "50\n",
      "43\n"
     ]
    }
   ],
   "source": [
    "list_number = [0, 1 , 3, 7, 4, 5, 20, 40, 50, 43]\n",
    "for i in range(len(list_number)):\n",
    "    print(list_number[i])"
   ]
  },
  {
   "cell_type": "markdown",
   "metadata": {},
   "source": [
    "### Thực hành 2: Tạo ra một list con chưa 2 phần tử cuối cùng từ list đã tạo ở trên"
   ]
  },
  {
   "cell_type": "code",
   "execution_count": 22,
   "metadata": {},
   "outputs": [
    {
     "name": "stdout",
     "output_type": "stream",
     "text": [
      "[50, 43]\n"
     ]
    }
   ],
   "source": [
    "sub_list = list_number[-2:]\n",
    "print(sub_list)"
   ]
  },
  {
   "cell_type": "markdown",
   "metadata": {},
   "source": [
    "### Cộng list"
   ]
  },
  {
   "cell_type": "code",
   "execution_count": 24,
   "metadata": {},
   "outputs": [
    {
     "name": "stdout",
     "output_type": "stream",
     "text": [
      "['laptop', 'phone', 'keyboard', 'earphone']\n",
      "['laptop', 'phone', 'keyboard', 'earphone', 'lamp', 'charger']\n"
     ]
    }
   ],
   "source": [
    "list_equipment = ['laptop', 'phone', 'keyboard']\n",
    "\n",
    "# append -> thêm phần tử vào vị trí cuối cùng trong list\n",
    "list_equipment.append('earphone')\n",
    "print(list_equipment)\n",
    "\n",
    "# extend -> ghép nối một list khác vào list hiện tại\n",
    "extra_equipment = ['lamp','charger']\n",
    "list_equipment.extend(extra_equipment)\n",
    "print(list_equipment)\n"
   ]
  },
  {
   "cell_type": "markdown",
   "metadata": {},
   "source": [
    "### Thực hành: Thêm học sinh vào lớp"
   ]
  },
  {
   "cell_type": "code",
   "execution_count": 26,
   "metadata": {},
   "outputs": [
    {
     "name": "stdout",
     "output_type": "stream",
     "text": [
      "['Andy', 'Bryan', 'Cindy', 'Dan', 'Emma', 'Ferb']\n"
     ]
    }
   ],
   "source": [
    "list_student = ['Andy', 'Bryan', 'Cindy', 'Dan']\n",
    "new_student = ['Emma', 'Ferb']\n",
    "list_student.extend(new_student)\n",
    "print(list_student)"
   ]
  },
  {
   "cell_type": "markdown",
   "metadata": {},
   "source": [
    "### Kiểm tra phần tử tồn tại trong list"
   ]
  },
  {
   "cell_type": "code",
   "execution_count": 28,
   "metadata": {},
   "outputs": [
    {
     "name": "stdout",
     "output_type": "stream",
     "text": [
      "True\n",
      "False\n"
     ]
    }
   ],
   "source": [
    "list_student =['Andy', 'Bryan', 'Cindy', 'Dan', 'Emma', 'Ferb']\n",
    "print('Emma' in list_student)\n",
    "print('Steve' in list_student)"
   ]
  },
  {
   "cell_type": "markdown",
   "metadata": {},
   "source": [
    "### Xóa phần tử khỏi list"
   ]
  },
  {
   "cell_type": "code",
   "execution_count": 29,
   "metadata": {},
   "outputs": [
    {
     "name": "stdout",
     "output_type": "stream",
     "text": [
      "['Andy', 'Bryan', 'Cindy', 'Emma', 'Ferb']\n",
      "['Andy', 'Cindy', 'Emma', 'Ferb']\n"
     ]
    }
   ],
   "source": [
    "list_student =['Andy', 'Bryan', 'Cindy', 'Dan', 'Emma', 'Ferb']\n",
    "# remove -> xóa giá trị đã được chỉ định trong list\n",
    "list_student.remove('Dan')\n",
    "print(list_student)\n",
    "\n",
    "# del -> xóa phần tử tại index đã được chỉ định trước\n",
    "del list_student[1]\n",
    "print(list_student)"
   ]
  },
  {
   "cell_type": "markdown",
   "metadata": {},
   "source": [
    "### Sắp xếp list"
   ]
  },
  {
   "cell_type": "code",
   "execution_count": 31,
   "metadata": {},
   "outputs": [
    {
     "name": "stdout",
     "output_type": "stream",
     "text": [
      "[5, 6.5, 7, 8]\n",
      "[8, 7, 6.5, 5]\n"
     ]
    }
   ],
   "source": [
    "list_mark = [6.5, 5, 7, 8]\n",
    "list_mark.sort() # sắp xếp từ thấp lên cao\n",
    "print(list_mark)\n",
    "\n",
    "# sắp xếp từ cao đến thấp\n",
    "list_mark.sort(reverse=True)\n",
    "print(list_mark)"
   ]
  },
  {
   "cell_type": "markdown",
   "metadata": {},
   "source": [
    "### Làm rỗng list"
   ]
  },
  {
   "cell_type": "code",
   "execution_count": 1,
   "metadata": {},
   "outputs": [
    {
     "name": "stdout",
     "output_type": "stream",
     "text": [
      "['Prepare lesson', 'Teaching', 'Review Homework']\n",
      "[]\n"
     ]
    }
   ],
   "source": [
    "todo_list = ['Prepare lesson','Teaching','Review Homework']\n",
    "print(todo_list)\n",
    "\n",
    "todo_list.clear() # remove toàn bộ\n",
    "print(todo_list)"
   ]
  },
  {
   "cell_type": "markdown",
   "metadata": {},
   "source": [
    "### Copy list"
   ]
  },
  {
   "attachments": {
    "d42ab1a9-19d8-421b-a092-f8be3ad31d4c.png": {
     "image/png": "[encoded data removed]"
    }
   },
   "cell_type": "markdown",
   "metadata": {},
   "source": [
    "![image.png](attachment:d42ab1a9-19d8-421b-a092-f8be3ad31d4c.png)\n"
   ]
  },
  {
   "cell_type": "code",
   "execution_count": null,
   "metadata": {},
   "outputs": [],
   "source": []
  }
 ],
 "metadata": {
  "kernelspec": {
   "display_name": "Python 3 (ipykernel)",
   "language": "python",
   "name": "python3"
  },
  "language_info": {
   "codemirror_mode": {
    "name": "ipython",
    "version": 3
   },
   "file_extension": ".py",
   "mimetype": "text/x-python",
   "name": "python",
   "nbconvert_exporter": "python",
   "pygments_lexer": "ipython3",
   "version": "3.11.4"
  }
 },
 "nbformat": 4,
 "nbformat_minor": 4
}
