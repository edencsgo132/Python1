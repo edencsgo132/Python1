{
 "cells": [
  {
   "cell_type": "code",
   "execution_count": null,
   "id": "a42fa0c7",
   "metadata": {},
   "outputs": [],
   "source": [
    "\"\"\"\n",
    "Tạo class có tên Equation gồm có các thuộc tính và phương thức sau:\n",
    "+ Thuộc tính: number1, number2\n",
    "+ Phương thức:\n",
    "- Phương thức tạo __init()__\n",
    "- print_info(): dùng để hiển thị number1, number2\n",
    "- addition(): dùng để cộng number1, number2\n",
    "- subtract(): trừ number1, number2\n",
    "- multi(): dùng để nhân number1, number2\n",
    "- division(): dùng để chia number1, number2.\n",
    "\n",
    "Sau khi tạo class, khởi tạo một object Equation và in ra kết quả tính toán từ các hàm thực hiện phép tính\n",
    "\"\"\""
   ]
  },
  {
   "cell_type": "code",
   "execution_count": 1,
   "id": "b9a4aa94-c3b3-437e-ae65-b2cd63184efb",
   "metadata": {},
   "outputs": [
    {
     "name": "stdout",
     "output_type": "stream",
     "text": [
      "number1 là: 40 \n",
      "number2 là: 10\n",
      "400 4.0 50 30\n"
     ]
    }
   ],
   "source": [
    "class Equation:\n",
    "    def __init__(self, number1, number2):\n",
    "        self.number1 = number1\n",
    "        self.number2 = number2\n",
    "    def print_info(self):\n",
    "       print(f\"number1 là: {self.number1} \\nnumber2 là: {self.number2}\")\n",
    "    def multiply(self):\n",
    "        # code here\n",
    "        tich = self.number1*self.number2\n",
    "        return tich\n",
    "    def division(self):\n",
    "        # code here\n",
    "        thuong = self.number1/self.number2\n",
    "        return thuong\n",
    "    def add(self):\n",
    "    # code here\n",
    "        tong = self.number1+self.number2\n",
    "        return tong\n",
    "    def subtract(self):\n",
    "        # code here\n",
    "        hieu = self.number1-self.number2\n",
    "        return hieu\n",
    "        \n",
    "a = Equation(40,10)\n",
    "a.print_info()\n",
    "a.division()\n",
    "print(a.multiply(),a.division(),a.add(),a.subtract())"
   ]
  },
  {
   "cell_type": "code",
   "execution_count": null,
   "id": "0a51143d-2cfe-4dca-b4b3-f309683aa773",
   "metadata": {},
   "outputs": [],
   "source": []
  }
 ],
 "metadata": {
  "kernelspec": {
   "display_name": "Python 3 (ipykernel)",
   "language": "python",
   "name": "python3"
  },
  "language_info": {
   "codemirror_mode": {
    "name": "ipython",
    "version": 3
   },
   "file_extension": ".py",
   "mimetype": "text/x-python",
   "name": "python",
   "nbconvert_exporter": "python",
   "pygments_lexer": "ipython3",
   "version": "3.11.4"
  }
 },
 "nbformat": 4,
 "nbformat_minor": 5
}
