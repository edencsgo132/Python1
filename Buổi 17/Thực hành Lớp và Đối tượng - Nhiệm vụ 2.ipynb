{
 "cells": [
  {
   "cell_type": "code",
   "execution_count": null,
   "id": "1b7705b3",
   "metadata": {},
   "outputs": [],
   "source": [
    "\"\"\"\n",
    "Viết class NhanVien gồm các thuộc tính:\n",
    "+ Tên\n",
    "+ Tuổi\n",
    "+ Địa chỉ\n",
    "+ Tiền lương\n",
    "+ Tổng số giờ làm\n",
    "\n",
    "Và các phương thức:\n",
    "- Phương thức __init__()\n",
    "- print_info() : In ra tất cả các thông tin của nhân viên\n",
    "- tinh_thuong(): Tính toán và trả về số tiền thưởng của nhân viên theo công thức sau:\n",
    "Nếu tổng số giờ làm của nhân viên >=200 thì thưởng = lương * 20%\n",
    "Nếu tổng số giờ làm của nhân viên <200 và >=100 thì thưởng = lương * 10%\n",
    "Nếu tổng số giờ làm của nhân viên <100 thì thưởng = 0\n",
    "\"\"\""
   ]
  },
  {
   "cell_type": "code",
   "execution_count": 5,
   "id": "3cf0f41d",
   "metadata": {},
   "outputs": [
    {
     "name": "stdout",
     "output_type": "stream",
     "text": [
      "ten: Hiếu Minh\n",
      "tuoi: 23\n",
      "diachi: Ngõ 55 Trần Nguyên Đán, Hà Nội\n",
      "tienluong: 100000\n",
      "giolam 180\n",
      "Tiền thưởng nhân viên 1 là: $10000.0\n",
      "\n",
      "ten: Tuấn Long\n",
      "tuoi: 32\n",
      "diachi: 23 Thanh Nhàn, Đà Nẵng\n",
      "tienluong: 70000\n",
      "giolam 100\n",
      "Tiền thưởng nhân viên 2 là: $7000.0\n"
     ]
    }
   ],
   "source": [
    "class NhanVien:\n",
    "    def __init__(self, ten, tuoi, diachi, tienluong, giolam):\n",
    "        self.ten = ten\n",
    "        self.tuoi = tuoi\n",
    "        self.diachi = diachi\n",
    "        self.tienluong = tienluong\n",
    "        self.giolam = giolam\n",
    "\n",
    "    def print_info(self):\n",
    "        print(\"ten:\", self.ten)\n",
    "        print(\"tuoi:\", self.tuoi)\n",
    "        print(\"diachi:\", self.diachi)\n",
    "        print(\"tienluong:\", self.tienluong)\n",
    "        print(\"giolam\", self.giolam)\n",
    "\n",
    "    def tinh_thuong(self):\n",
    "        if self.giolam >= 200:\n",
    "            thuong = tienluong * 0.2\n",
    "        elif self.giolam >= 100:\n",
    "            thuong = self.tienluong * 0.1\n",
    "        else:\n",
    "            thuong = 0\n",
    "\n",
    "        return thuong\n",
    "\n",
    "NhanVien1 = NhanVien(\"Hiếu Minh\", 23, \"Ngõ 55 Trần Nguyên Đán, Hà Nội\", 100000, 180)\n",
    "NhanVien2 = NhanVien(\"Tuấn Long\", 32, \"23 Thanh Nhàn, Đà Nẵng\", 70000, 100)\n",
    "\n",
    "NhanVien1.print_info()\n",
    "thuong_NhanVien1 = NhanVien1.tinh_thuong()\n",
    "print(f\"Tiền thưởng nhân viên 1 là: ${thuong_NhanVien1}\")\n",
    "\n",
    "print()\n",
    "\n",
    "NhanVien2.print_info()\n",
    "thuong_NhanVien2 = NhanVien2.tinh_thuong()\n",
    "print(f\"Tiền thưởng nhân viên 2 là: ${thuong_NhanVien2}\")"
   ]
  },
  {
   "cell_type": "code",
   "execution_count": null,
   "id": "9571cbd8-d1a6-4e28-8d0d-d244d501f0a0",
   "metadata": {},
   "outputs": [],
   "source": []
  }
 ],
 "metadata": {
  "kernelspec": {
   "display_name": "Python 3 (ipykernel)",
   "language": "python",
   "name": "python3"
  },
  "language_info": {
   "codemirror_mode": {
    "name": "ipython",
    "version": 3
   },
   "file_extension": ".py",
   "mimetype": "text/x-python",
   "name": "python",
   "nbconvert_exporter": "python",
   "pygments_lexer": "ipython3",
   "version": "3.11.4"
  }
 },
 "nbformat": 4,
 "nbformat_minor": 5
}
